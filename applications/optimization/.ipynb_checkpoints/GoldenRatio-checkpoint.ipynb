{
 "cells": [
  {
   "cell_type": "markdown",
   "id": "575056ca-b60a-477e-a1b7-b3e051cede01",
   "metadata": {},
   "source": [
    "# A simple iterative program using sessions\n",
    "This is a simple example showing how we find the theta which minimizes the Mermin operator \n",
    "\n",
    "$$ \n",
    "M = XXY+XYX+YXX-YYY\n",
    "$$  \n",
    "\n",
    "for a search over quantum states \n",
    "\n",
    "$$ \n",
    "|\\psi\\rangle = [|000\\rangle  + e^{i \\theta} |111\\rangle ]/\\sqrt{2}\n",
    "$$ \n"
   ]
  },
  {
   "cell_type": "markdown",
   "id": "caccdccd-7c27-4a2b-94ae-fd04784be779",
   "metadata": {},
   "source": [
    "## **Step 0**: Setup"
   ]
  },
  {
   "cell_type": "code",
   "execution_count": 1,
   "id": "502e42a9-8128-4e13-a3be-25c8a0ef1c36",
   "metadata": {},
   "outputs": [],
   "source": [
    "import numpy as np\n",
    "\n",
    "# Qiskit Quantum Circuit\n",
    "from qiskit import QuantumCircuit\n",
    "\n",
    "# Qiskit Operator form\n",
    "from qiskit.quantum_info import SparsePauliOp\n",
    "\n",
    "# Import Qiskit packages\n",
    "from qiskit_ibm_runtime import QiskitRuntimeService, Estimator, Options, Session\n",
    "\n",
    "# Loading your IBM Quantum account(s)\n",
    "service = QiskitRuntimeService(channel=\"ibm_quantum\", instance=\"executive/internal/main\")\n",
    "\n",
    "# Define backend\n",
    "use_real = True\n",
    "\n",
    "if use_real:\n",
    "    backend = service.backend('ibm_kyiv')\n",
    "else:\n",
    "    backend = service.backend('ibmq_qasm_simulator')"
   ]
  },
  {
   "cell_type": "markdown",
   "id": "24898c63-b30d-491a-b90b-d9638fef38e8",
   "metadata": {},
   "source": [
    "## **Step 1** Map the problem to a Quantum Native format (Set of Operators, and a set of Quantum Circuits)\n",
    "Here we define the Mermin operator to be measured and the trial quantum circuits to be prepared to find the quantum circuit that maximizes the Mermin operator. The output of this step should be an operator to be measured and a quantum circuit"
   ]
  },
  {
   "cell_type": "code",
   "execution_count": 2,
   "id": "bbe7990b-7683-479e-8ecb-47a236fe7b53",
   "metadata": {},
   "outputs": [
    {
     "name": "stdout",
     "output_type": "stream",
     "text": [
      "SparsePauliOp(['XXY', 'XYX', 'YXX', 'YYY'],\n",
      "              coeffs=[ 1.+0.j,  1.+0.j,  1.+0.j, -1.+0.j])\n"
     ]
    }
   ],
   "source": [
    "mermin = SparsePauliOp.from_list([(\"XXY\", 1), (\"XYX\", 1), (\"YXX\", 1), (\"YYY\", -1)])\n",
    "print(mermin)"
   ]
  },
  {
   "cell_type": "code",
   "execution_count": 3,
   "id": "1d04a740-2b52-4ccc-b66b-2e7a2e8b33b2",
   "metadata": {},
   "outputs": [
    {
     "data": {
      "image/png": "[encoded data removed]",
      "text/plain": [
       "<Figure size 454.719x284.278 with 1 Axes>"
      ]
     },
     "execution_count": 3,
     "metadata": {},
     "output_type": "execute_result"
    }
   ],
   "source": [
    "from qiskit.circuit import Parameter\n",
    "theta = Parameter('θ')\n",
    "\n",
    "\n",
    "# Step 1. Choose the quantum circuit to make the quantum state |000> + e^{theta} |111>\n",
    "qc_example = QuantumCircuit(3)\n",
    "qc_example.h(0) # generate superposition\n",
    "qc_example.p(theta, 0) # add quantum phase\n",
    "qc_example.cx(0, 1) # condition 1st qubit on 0th qubit\n",
    "qc_example.cx(0, 2) # condition 2nd qubit on 0th qubit\n",
    "qc_example.draw('mpl')"
   ]
  },
  {
   "cell_type": "markdown",
   "id": "caae0a67-a981-4e0d-9afe-388ab7d039b7",
   "metadata": {},
   "source": [
    "## **Step 2**: Optimize the circuits and the operators to be measured"
   ]
  },
  {
   "cell_type": "code",
   "execution_count": 4,
   "id": "9b489cea-460e-40a0-a079-a6cae251674a",
   "metadata": {},
   "outputs": [
    {
     "name": "stdout",
     "output_type": "stream",
     "text": [
      "         ┌─────────┐┌────┐ ┌───────┐                      ┌────┐  ┌─────────┐\n",
      "q_2 -> 0 ┤ Rz(π/2) ├┤ √X ├─┤ Rz(π) ├───────────────■──────┤ √X ├──┤ Rz(π/2) ├\n",
      "         ├─────────┤├────┤┌┴───────┴┐┌───────┐     │      └────┘  └─────────┘\n",
      "q_0 -> 1 ┤ Rz(π/2) ├┤ √X ├┤ Rz(π/2) ├┤ Rz(θ) ├─■───■─────────────────────────\n",
      "         ├─────────┤├────┤└┬───────┬┘└───────┘ │ ┌────┐┌─────────┐           \n",
      "q_1 -> 2 ┤ Rz(π/2) ├┤ √X ├─┤ Rz(π) ├───────────■─┤ √X ├┤ Rz(π/2) ├───────────\n",
      "         └─────────┘└────┘ └───────┘             └────┘└─────────┘           \n"
     ]
    }
   ],
   "source": [
    "from qiskit.compiler import transpile\n",
    "qc_ibm = transpile(qc_example, basis_gates = ['cz', 'sx', 'rz'],  coupling_map =[[0, 1], [1, 2]], optimization_level=3)\n",
    "print(qc_ibm)"
   ]
  },
  {
   "cell_type": "code",
   "execution_count": 5,
   "id": "f66fe663-f68a-4d2f-84d3-5fa648051c9f",
   "metadata": {},
   "outputs": [
    {
     "data": {
      "text/plain": [
       "SparsePauliOp(['XYX', 'YXX', 'XXY', 'YYY'],\n",
       "              coeffs=[ 1.+0.j,  1.+0.j,  1.+0.j, -1.+0.j])"
      ]
     },
     "execution_count": 5,
     "metadata": {},
     "output_type": "execute_result"
    }
   ],
   "source": [
    "from permute_sparse_pauli_op import permute_sparse_pauli_op\n",
    "\n",
    "layout = qc_ibm.layout.initial_layout\n",
    "mermin_ibm = permute_sparse_pauli_op(mermin,layout, qc_example.qubits)\n",
    "mermin_ibm"
   ]
  },
  {
   "cell_type": "markdown",
   "id": "e00253d9-f5d0-4902-bfdc-0e1b9d50557f",
   "metadata": {},
   "source": [
    "## **Step 3**: Execute using a quantum primitive function (estimator or sampler)"
   ]
  },
  {
   "cell_type": "code",
   "execution_count": 6,
   "id": "fbf4f0d6-0fab-4333-bc58-437f4c8cda9a",
   "metadata": {},
   "outputs": [
    {
     "name": "stdout",
     "output_type": "stream",
     "text": [
      "min value of M1 is in the range theta = [0, 6.283185307179586]\n",
      "min value of M1 is in the range theta = [2.3999632297286535, 6.283185307179586]\n",
      "min value of M1 is in the range theta = [3.883222077450933, 6.283185307179586]\n",
      "min value of M1 is in the range theta = [3.883222077450933, 5.366480925173213]\n",
      "min value of M1 is in the range theta = [4.4497765431668395, 5.366480925173213]\n",
      "min value of M1 is in the range theta = [4.4497765431668395, 5.016331008882746]\n",
      "min value of M1 is in the range theta = [4.4497765431668395, 4.799926459457307]\n",
      "min value of M1 is in the range theta = [4.583521910031868, 4.799926459457307]\n",
      "min value of M1 is in the range theta = [4.583521910031868, 4.717267276896896]\n",
      "Session ID is ck0hjg6iel5ovfa3ndeg\n",
      "Final Job ID is ck0hrrmiel5ovfa46q8g\n"
     ]
    }
   ],
   "source": [
    "options = Options(optimization_level=1)\n",
    "options.execution.shots = 5000  # Options can be set using auto-complete.\n",
    "\n",
    "# golden search method for finding max of M1 vs theta \n",
    "# https://en.wikipedia.org/wiki/Golden-section_search\n",
    "gr = (np.sqrt(5) + 1) / 2\n",
    "\n",
    "# range of theta  \n",
    "thetaa = 0\n",
    "thetab = 2*np.pi\n",
    "\n",
    "#tol \n",
    "tol = 1e-1\n",
    "\n",
    "with Session(backend=backend) as session:\n",
    "    estimator = Estimator(options=options)\n",
    "\n",
    "    #next test range \n",
    "    thetac = thetab - (thetab - thetaa) / gr\n",
    "    thetad = thetaa + (thetab - thetaa) / gr\n",
    "    while abs(thetab - thetaa) > tol:\n",
    "        \n",
    "        print(f\"min value of M1 is in the range theta = {[thetaa, thetab]}\")\n",
    "        job = estimator.run(circuits=[qc_ibm]*2, observables=[mermin_ibm]*2, parameter_values=[[thetac],[thetad]])\n",
    "        \n",
    "        test =job.result().values\n",
    "        if test[0] < test[1]:\n",
    "            thetab = thetad\n",
    "        else:\n",
    "            thetaa = thetac\n",
    "        \n",
    "        thetac = thetab - (thetab - thetaa) / gr\n",
    "        thetad = thetaa + (thetab - thetaa) / gr\n",
    "        \n",
    "    # Final Job to evaluate estimator at mid point found using golden search method \n",
    "    theta_mid = (thetab + thetaa) / 2\n",
    "    job = estimator.run(circuits=qc_ibm, observables=mermin_ibm, parameter_values=theta_mid)\n",
    "    print(f\"Session ID is {session.session_id}\")\n",
    "    print(f\"Final Job ID is {job.job_id()}\")"
   ]
  },
  {
   "cell_type": "markdown",
   "id": "b9b8f67e-f78a-4599-a552-16df750fba8d",
   "metadata": {},
   "source": [
    "## **Step 4**: Post-processing of the results to return either a plot or the answer"
   ]
  },
  {
   "cell_type": "code",
   "execution_count": 7,
   "id": "e901f9e0-de8e-46b7-a4f0-a4b0a36cb768",
   "metadata": {},
   "outputs": [
    {
     "name": "stdout",
     "output_type": "stream",
     "text": [
      "Job result is [-3.86278234] at theta = 4.67593768561669\n"
     ]
    }
   ],
   "source": [
    "print(f\"Job result is {job.result().values} at theta = {theta_mid}\")"
   ]
  },
  {
   "cell_type": "code",
   "execution_count": 8,
   "id": "257fdbfc-0f94-42c9-842b-c8cd4fe0941a",
   "metadata": {},
   "outputs": [
    {
     "name": "stdout",
     "output_type": "stream",
     "text": [
      "In units of pi theta = 1.488397192511146\n"
     ]
    }
   ],
   "source": [
    "print(f\"In units of pi theta = {theta_mid/np.pi}\")"
   ]
  },
  {
   "cell_type": "code",
   "execution_count": null,
   "id": "bf7a4f10-fa7a-4f80-92ec-3f8638819f8c",
   "metadata": {},
   "outputs": [],
   "source": []
  }
 ],
 "metadata": {
  "kernelspec": {
   "display_name": "Python 3 (ipykernel)",
   "language": "python",
   "name": "python3"
  },
  "language_info": {
   "codemirror_mode": {
    "name": "ipython",
    "version": 3
   },
   "file_extension": ".py",
   "mimetype": "text/x-python",
   "name": "python",
   "nbconvert_exporter": "python",
   "pygments_lexer": "ipython3",
   "version": "3.11.4"
  }
 },
 "nbformat": 4,
 "nbformat_minor": 5
}
