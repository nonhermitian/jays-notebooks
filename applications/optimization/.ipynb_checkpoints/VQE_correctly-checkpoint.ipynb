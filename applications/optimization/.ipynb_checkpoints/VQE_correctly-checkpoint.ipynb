{
 "cells": [
  {
   "cell_type": "markdown",
   "id": "b0cec416-e39d-4a98-a357-e717af488594",
   "metadata": {
    "tags": []
   },
   "source": [
    "# A simple example showing how to use VQE\n",
    "\n",
    "H=JX(XX +YY +ZZ)+BXZ"
   ]
  },
  {
   "cell_type": "markdown",
   "id": "f2bfbeec-c4d0-40a2-8770-fa9084be59e8",
   "metadata": {},
   "source": [
    "## **Step 0**: Setup"
   ]
  },
  {
   "cell_type": "code",
   "execution_count": 17,
   "id": "4fd17734-588f-465c-87d7-c134a33b9d6d",
   "metadata": {},
   "outputs": [],
   "source": [
    "import numpy as np\n",
    "\n",
    "# Qiskit from IBM\n",
    "from qiskit_ibm_runtime import QiskitRuntimeService, Estimator, Session, Options\n",
    "\n",
    "# Loading your IBM Quantum account(s)\n",
    "service = QiskitRuntimeService(channel=\"ibm_quantum\")\n",
    "\n",
    "# Define backends\n",
    "use_real = True\n",
    "\n",
    "if use_real:\n",
    "    backend = service.backend('ibmq_kolkata')\n",
    "else:\n",
    "    backend = service.backend('ibmq_qasm_simulator')"
   ]
  },
  {
   "cell_type": "markdown",
   "id": "3b61a2e2-2b72-4b50-bfba-71881d481c2f",
   "metadata": {},
   "source": [
    "## **Step 1** Map the problem to a Quantum Native format (Set of Operators, and a set of Quantum Circuits)"
   ]
  },
  {
   "cell_type": "code",
   "execution_count": 18,
   "id": "f46730e7-7cca-4438-8087-039fe5d63aee",
   "metadata": {},
   "outputs": [
    {
     "name": "stdout",
     "output_type": "stream",
     "text": [
      "     ┌──────────┐┌──────────┐                                            »\n",
      "q_0: ┤ Ry(θ[0]) ├┤ Rz(θ[5]) ├─────────────────────────────────────■──────»\n",
      "     ├──────────┤├──────────┤                                   ┌─┴─┐    »\n",
      "q_1: ┤ Ry(θ[1]) ├┤ Rz(θ[6]) ├────────────────────────■──────────┤ X ├────»\n",
      "     ├──────────┤├──────────┤                      ┌─┴─┐    ┌───┴───┴───┐»\n",
      "q_2: ┤ Ry(θ[2]) ├┤ Rz(θ[7]) ├───────────■──────────┤ X ├────┤ Ry(θ[12]) ├»\n",
      "     ├──────────┤├──────────┤         ┌─┴─┐    ┌───┴───┴───┐├───────────┤»\n",
      "q_3: ┤ Ry(θ[3]) ├┤ Rz(θ[8]) ├──■──────┤ X ├────┤ Ry(θ[13]) ├┤ Rz(θ[18]) ├»\n",
      "     ├──────────┤├──────────┤┌─┴─┐┌───┴───┴───┐├───────────┤└───────────┘»\n",
      "q_4: ┤ Ry(θ[4]) ├┤ Rz(θ[9]) ├┤ X ├┤ Ry(θ[14]) ├┤ Rz(θ[19]) ├─────────────»\n",
      "     └──────────┘└──────────┘└───┘└───────────┘└───────────┘             »\n",
      "«     ┌───────────┐┌───────────┐                          ┌───────────┐»\n",
      "«q_0: ┤ Ry(θ[10]) ├┤ Rz(θ[15]) ├───────────────────■──────┤ Ry(θ[20]) ├»\n",
      "«     ├───────────┤├───────────┤                 ┌─┴─┐    ├───────────┤»\n",
      "«q_1: ┤ Ry(θ[11]) ├┤ Rz(θ[16]) ├──────■──────────┤ X ├────┤ Ry(θ[21]) ├»\n",
      "«     ├───────────┤└───────────┘    ┌─┴─┐    ┌───┴───┴───┐├───────────┤»\n",
      "«q_2: ┤ Rz(θ[17]) ├──────■──────────┤ X ├────┤ Ry(θ[22]) ├┤ Rz(θ[27]) ├»\n",
      "«     └───────────┘    ┌─┴─┐    ┌───┴───┴───┐├───────────┤└───────────┘»\n",
      "«q_3: ──────■──────────┤ X ├────┤ Ry(θ[23]) ├┤ Rz(θ[28]) ├──────■──────»\n",
      "«         ┌─┴─┐    ┌───┴───┴───┐├───────────┤└───────────┘    ┌─┴─┐    »\n",
      "«q_4: ────┤ X ├────┤ Ry(θ[24]) ├┤ Rz(θ[29]) ├─────────────────┤ X ├────»\n",
      "«         └───┘    └───────────┘└───────────┘                 └───┘    »\n",
      "«     ┌───────────┐                          ┌───────────┐┌───────────┐\n",
      "«q_0: ┤ Rz(θ[25]) ├───────────────────■──────┤ Ry(θ[30]) ├┤ Rz(θ[35]) ├\n",
      "«     ├───────────┤                 ┌─┴─┐    ├───────────┤├───────────┤\n",
      "«q_1: ┤ Rz(θ[26]) ├──────■──────────┤ X ├────┤ Ry(θ[31]) ├┤ Rz(θ[36]) ├\n",
      "«     └───────────┘    ┌─┴─┐    ┌───┴───┴───┐├───────────┤└───────────┘\n",
      "«q_2: ──────■──────────┤ X ├────┤ Ry(θ[32]) ├┤ Rz(θ[37]) ├─────────────\n",
      "«         ┌─┴─┐    ┌───┴───┴───┐├───────────┤└───────────┘             \n",
      "«q_3: ────┤ X ├────┤ Ry(θ[33]) ├┤ Rz(θ[38]) ├──────────────────────────\n",
      "«     ┌───┴───┴───┐├───────────┤└───────────┘                          \n",
      "«q_4: ┤ Ry(θ[34]) ├┤ Rz(θ[39]) ├───────────────────────────────────────\n",
      "«     └───────────┘└───────────┘                                       \n"
     ]
    }
   ],
   "source": [
    "# Qiskit circuit library\n",
    "from qiskit.circuit.library import EfficientSU2\n",
    "\n",
    "ansatz = EfficientSU2(5)\n",
    "\n",
    "print(ansatz.decompose())"
   ]
  },
  {
   "cell_type": "code",
   "execution_count": 2,
   "id": "c70de674",
   "metadata": {},
   "outputs": [
    {
     "name": "stdout",
     "output_type": "stream",
     "text": [
      "SparsePauliOp(['YZ', 'ZI', 'ZZ', 'XX'],\n",
      "              coeffs=[ 0.39793742+0.j, -0.39793742+0.j, -0.0112801 +0.j,  0.1809312 +0.j])\n"
     ]
    }
   ],
   "source": [
    "from qiskit.quantum_info import SparsePauliOp\n",
    "\n",
    "hamiltonian = SparsePauliOp.from_list([('YZ', 0.39793742484318045),\n",
    "                                     ('ZI', -0.39793742484318045),\n",
    "                                     ('ZZ', -0.01128010425623538),\n",
    "                                     ('XX', 0.18093119978423156)])\n",
    "\n",
    "print (hamiltonian)"
   ]
  },
  {
   "cell_type": "markdown",
   "id": "10081614-225b-4516-8900-0d271ef82d3c",
   "metadata": {},
   "source": [
    "## **Step 2**: Optimize the circuits and the operators to be measured"
   ]
  },
  {
   "cell_type": "code",
   "execution_count": 19,
   "id": "e2f75b1a-68a5-420c-a0f0-9e915ac9d5fc",
   "metadata": {},
   "outputs": [
    {
     "name": "stdout",
     "output_type": "stream",
     "text": [
      "     ┌────┐┌──────────────┐┌────┐┌────────┐┌──────────┐                 »\n",
      "q_0: ┤ √X ├┤ Rz(θ[0] + π) ├┤ √X ├┤ Rz(3π) ├┤ Rz(θ[5]) ├─────────────────»\n",
      "     ├────┤├──────────────┤├────┤├────────┤├──────────┤                 »\n",
      "q_1: ┤ √X ├┤ Rz(θ[1] + π) ├┤ √X ├┤ Rz(3π) ├┤ Rz(θ[6]) ├─────────────────»\n",
      "     ├────┤├──────────────┤├────┤├────────┤├──────────┤                 »\n",
      "q_2: ┤ √X ├┤ Rz(θ[2] + π) ├┤ √X ├┤ Rz(3π) ├┤ Rz(θ[7]) ├─────────────────»\n",
      "     ├────┤├──────────────┤├────┤├────────┤├──────────┤                 »\n",
      "q_3: ┤ √X ├┤ Rz(θ[3] + π) ├┤ √X ├┤ Rz(3π) ├┤ Rz(θ[8]) ├─────────────────»\n",
      "     ├────┤├──────────────┤├────┤├────────┤├──────────┤┌─────────┐┌────┐»\n",
      "q_4: ┤ √X ├┤ Rz(θ[4] + π) ├┤ √X ├┤ Rz(3π) ├┤ Rz(θ[9]) ├┤ Rz(π/2) ├┤ √X ├»\n",
      "     └────┘└──────────────┘└────┘└────────┘└──────────┘└─────────┘└────┘»\n",
      "«                                                                            »\n",
      "«q_0: ───────────────────────────────────────────────────────────────────────»\n",
      "«                                                                            »\n",
      "«q_1: ───────────────────────────────────────────────────────────────────────»\n",
      "«                                                                 ┌─────────┐»\n",
      "«q_2: ────────────────────────────────────────────────────────■───┤ Rz(π/2) ├»\n",
      "«                    ┌─────────┐   ┌────┐     ┌──────────┐    │   └──┬────┬─┘»\n",
      "«q_3: ─────────────■─┤ Rz(π/2) ├───┤ √X ├─────┤ Rz(-π/2) ├────■──────┤ √X ├──»\n",
      "«     ┌──────────┐ │ └──┬────┬─┘┌──┴────┴─┐┌──┴──────────┴─┐┌────┐ ┌─┴────┴─┐»\n",
      "«q_4: ┤ Rz(-π/2) ├─■────┤ √X ├──┤ Rz(π/2) ├┤ Rz(θ[14] + π) ├┤ √X ├─┤ Rz(3π) ├»\n",
      "«     └──────────┘      └────┘  └─────────┘└───────────────┘└────┘ └────────┘»\n",
      "«                                                                  »\n",
      "«q_0: ─────────────────────────────────────────────────────────────»\n",
      "«                                         ┌─────────┐     ┌────┐   »\n",
      "«q_1: ────────────────────────────────■───┤ Rz(π/2) ├─────┤ √X ├───»\n",
      "«         ┌────┐      ┌──────────┐    │   └──┬────┬─┘  ┌──┴────┴─┐ »\n",
      "«q_2: ────┤ √X ├──────┤ Rz(-π/2) ├────■──────┤ √X ├────┤ Rz(π/2) ├─»\n",
      "«      ┌──┴────┴─┐ ┌──┴──────────┴─┐┌────┐ ┌─┴────┴─┐ ┌┴─────────┴┐»\n",
      "«q_3: ─┤ Rz(π/2) ├─┤ Rz(θ[13] + π) ├┤ √X ├─┤ Rz(3π) ├─┤ Rz(θ[18]) ├»\n",
      "«     ┌┴─────────┴┐└──┬─────────┬──┘├────┤┌┴────────┴┐└───────────┘»\n",
      "«q_4: ┤ Rz(θ[19]) ├───┤ Rz(π/2) ├───┤ √X ├┤ Rz(-π/2) ├─────────────»\n",
      "«     └───────────┘   └─────────┘   └────┘└──────────┘             »\n",
      "«                                    ┌────┐  ┌───────────────┐      ┌────┐     »\n",
      "«q_0: ──────────────────────■────────┤ √X ├──┤ Rz(θ[10] + π) ├──────┤ √X ├─────»\n",
      "«        ┌──────────┐       │        ├────┤  └──┬─────────┬──┘┌─────┴────┴────┐»\n",
      "«q_1: ───┤ Rz(-π/2) ├───────■────────┤ √X ├─────┤ Rz(π/2) ├───┤ Rz(θ[11] + π) ├»\n",
      "«     ┌──┴──────────┴─┐   ┌────┐   ┌─┴────┴─┐  ┌┴─────────┴┐  └───────────────┘»\n",
      "«q_2: ┤ Rz(θ[12] + π) ├───┤ √X ├───┤ Rz(3π) ├──┤ Rz(θ[17]) ├──────────■────────»\n",
      "«     └───────────────┘┌──┴────┴─┐ └─┬────┬─┘  └┬──────────┤          │        »\n",
      "«q_3: ────────■────────┤ Rz(π/2) ├───┤ √X ├─────┤ Rz(-π/2) ├──────────■────────»\n",
      "«             │        └──┬────┬─┘┌──┴────┴─┐┌──┴──────────┴─┐      ┌────┐     »\n",
      "«q_4: ────────■───────────┤ √X ├──┤ Rz(π/2) ├┤ Rz(θ[24] + π) ├──────┤ √X ├─────»\n",
      "«                         └────┘  └─────────┘└───────────────┘      └────┘     »\n",
      "«      ┌────────┐┌───────────┐                                                »\n",
      "«q_0: ─┤ Rz(3π) ├┤ Rz(θ[15]) ├────────────────────────────────────────────────»\n",
      "«      └─┬────┬─┘└─┬────────┬┘  ┌───────────┐        ┌─────────┐     ┌────┐   »\n",
      "«q_1: ───┤ √X ├────┤ Rz(3π) ├───┤ Rz(θ[16]) ├────■───┤ Rz(π/2) ├─────┤ √X ├───»\n",
      "«     ┌──┴────┴─┐  └─┬────┬─┘   └┬──────────┤    │   └──┬────┬─┘  ┌──┴────┴─┐ »\n",
      "«q_2: ┤ Rz(π/2) ├────┤ √X ├──────┤ Rz(-π/2) ├────■──────┤ √X ├────┤ Rz(π/2) ├─»\n",
      "«     └──┬────┬─┘ ┌──┴────┴─┐ ┌──┴──────────┴─┐┌────┐ ┌─┴────┴─┐ ┌┴─────────┴┐»\n",
      "«q_3: ───┤ √X ├───┤ Rz(π/2) ├─┤ Rz(θ[23] + π) ├┤ √X ├─┤ Rz(3π) ├─┤ Rz(θ[28]) ├»\n",
      "«      ┌─┴────┴─┐┌┴─────────┴┐└──┬─────────┬──┘├────┤┌┴────────┴┐└───────────┘»\n",
      "«q_4: ─┤ Rz(3π) ├┤ Rz(θ[29]) ├───┤ Rz(π/2) ├───┤ √X ├┤ Rz(-π/2) ├─────────────»\n",
      "«      └────────┘└───────────┘   └─────────┘   └────┘└──────────┘             »\n",
      "«                                    ┌────┐  ┌───────────────┐      ┌────┐     »\n",
      "«q_0: ──────────────────────■────────┤ √X ├──┤ Rz(θ[20] + π) ├──────┤ √X ├─────»\n",
      "«        ┌──────────┐       │        ├────┤  └──┬─────────┬──┘┌─────┴────┴────┐»\n",
      "«q_1: ───┤ Rz(-π/2) ├───────■────────┤ √X ├─────┤ Rz(π/2) ├───┤ Rz(θ[21] + π) ├»\n",
      "«     ┌──┴──────────┴─┐   ┌────┐   ┌─┴────┴─┐  ┌┴─────────┴┐  └───────────────┘»\n",
      "«q_2: ┤ Rz(θ[22] + π) ├───┤ √X ├───┤ Rz(3π) ├──┤ Rz(θ[27]) ├──────────■────────»\n",
      "«     └───────────────┘┌──┴────┴─┐ └─┬────┬─┘  └┬──────────┤          │        »\n",
      "«q_3: ────────■────────┤ Rz(π/2) ├───┤ √X ├─────┤ Rz(-π/2) ├──────────■────────»\n",
      "«             │        └──┬────┬─┘┌──┴────┴─┐┌──┴──────────┴─┐      ┌────┐     »\n",
      "«q_4: ────────■───────────┤ √X ├──┤ Rz(π/2) ├┤ Rz(θ[34] + π) ├──────┤ √X ├─────»\n",
      "«                         └────┘  └─────────┘└───────────────┘      └────┘     »\n",
      "«      ┌────────┐┌───────────┐                                               »\n",
      "«q_0: ─┤ Rz(3π) ├┤ Rz(θ[25]) ├───────────────────────────────────────────────»\n",
      "«      └─┬────┬─┘└─┬────────┬┘  ┌───────────┐        ┌─────────┐    ┌────┐   »\n",
      "«q_1: ───┤ √X ├────┤ Rz(3π) ├───┤ Rz(θ[26]) ├────■───┤ Rz(π/2) ├────┤ √X ├───»\n",
      "«     ┌──┴────┴─┐  └─┬────┬─┘   └┬──────────┤    │   └──┬────┬─┘ ┌──┴────┴─┐ »\n",
      "«q_2: ┤ Rz(π/2) ├────┤ √X ├──────┤ Rz(-π/2) ├────■──────┤ √X ├───┤ Rz(π/2) ├─»\n",
      "«     └──┬────┬─┘ ┌──┴────┴─┐ ┌──┴──────────┴─┐┌────┐ ┌─┴────┴─┐┌┴─────────┴┐»\n",
      "«q_3: ───┤ √X ├───┤ Rz(π/2) ├─┤ Rz(θ[33] + π) ├┤ √X ├─┤ Rz(3π) ├┤ Rz(θ[38]) ├»\n",
      "«      ┌─┴────┴─┐┌┴─────────┴┐└───────────────┘└────┘ └────────┘└───────────┘»\n",
      "«q_4: ─┤ Rz(3π) ├┤ Rz(θ[39]) ├───────────────────────────────────────────────»\n",
      "«      └────────┘└───────────┘                                               »\n",
      "«                              ┌────┐  ┌───────────────┐      ┌────┐     »\n",
      "«q_0: ───────────────────■─────┤ √X ├──┤ Rz(θ[30] + π) ├──────┤ √X ├─────»\n",
      "«        ┌──────────┐    │     ├────┤  └──┬─────────┬──┘┌─────┴────┴────┐»\n",
      "«q_1: ───┤ Rz(-π/2) ├────■─────┤ √X ├─────┤ Rz(π/2) ├───┤ Rz(θ[31] + π) ├»\n",
      "«     ┌──┴──────────┴─┐┌────┐┌─┴────┴─┐  ┌┴─────────┴┐  └───────────────┘»\n",
      "«q_2: ┤ Rz(θ[32] + π) ├┤ √X ├┤ Rz(3π) ├──┤ Rz(θ[37]) ├───────────────────»\n",
      "«     └───────────────┘└────┘└────────┘  └───────────┘                   »\n",
      "«q_3: ───────────────────────────────────────────────────────────────────»\n",
      "«                                                                        »\n",
      "«q_4: ───────────────────────────────────────────────────────────────────»\n",
      "«                                                                        »\n",
      "«     ┌────────┐┌───────────┐             \n",
      "«q_0: ┤ Rz(3π) ├┤ Rz(θ[35]) ├─────────────\n",
      "«     └─┬────┬─┘└─┬────────┬┘┌───────────┐\n",
      "«q_1: ──┤ √X ├────┤ Rz(3π) ├─┤ Rz(θ[36]) ├\n",
      "«       └────┘    └────────┘ └───────────┘\n",
      "«q_2: ────────────────────────────────────\n",
      "«                                         \n",
      "«q_3: ────────────────────────────────────\n",
      "«                                         \n",
      "«q_4: ────────────────────────────────────\n",
      "«                                         \n"
     ]
    }
   ],
   "source": [
    "from qiskit.compiler import transpile\n",
    "ansatz_ibm = transpile(ansatz, basis_gates = ['cz', 'sx', 'rz'], coupling_map =[[0, 1], [1, 2]], optimization_level=3)\n",
    "print(ansatz_ibm)\n",
    "\n",
    "qc_ibm = transpile(qc_example, basis_gates = ['cz', 'sx', 'rz'],  coupling_map =[[0, 1], [1, 2]], optimization_level=3)\n"
   ]
  },
  {
   "cell_type": "code",
   "execution_count": 21,
   "id": "448fc95e-1488-48aa-addd-ebd7466b5207",
   "metadata": {},
   "outputs": [],
   "source": [
    "layout = ansatz_ibm.layout"
   ]
  },
  {
   "cell_type": "code",
   "execution_count": 10,
   "id": "d241920a-36c4-4a4f-a47f-a311dc0cb84f",
   "metadata": {},
   "outputs": [
    {
     "ename": "AttributeError",
     "evalue": "'NoneType' object has no attribute 'initial_layout'",
     "output_type": "error",
     "traceback": [
      "\u001b[0;31m---------------------------------------------------------------------------\u001b[0m",
      "\u001b[0;31mAttributeError\u001b[0m                            Traceback (most recent call last)",
      "Cell \u001b[0;32mIn[10], line 3\u001b[0m\n\u001b[1;32m      1\u001b[0m \u001b[38;5;28;01mfrom\u001b[39;00m \u001b[38;5;21;01mpermute_sparse_pauli_op\u001b[39;00m \u001b[38;5;28;01mimport\u001b[39;00m permute_sparse_pauli_op\n\u001b[0;32m----> 3\u001b[0m layout \u001b[38;5;241m=\u001b[39m \u001b[43mansatz_ibm\u001b[49m\u001b[38;5;241;43m.\u001b[39;49m\u001b[43mlayout\u001b[49m\u001b[38;5;241;43m.\u001b[39;49m\u001b[43minitial_layout\u001b[49m\n\u001b[1;32m      4\u001b[0m hamiltonian_ibm \u001b[38;5;241m=\u001b[39m permute_sparse_pauli_op(hamiltonian,layout, ansatz\u001b[38;5;241m.\u001b[39mqubits)\n\u001b[1;32m      5\u001b[0m hamiltonian_ibm\n",
      "\u001b[0;31mAttributeError\u001b[0m: 'NoneType' object has no attribute 'initial_layout'"
     ]
    }
   ],
   "source": [
    "from permute_sparse_pauli_op import permute_sparse_pauli_op\n",
    "\n",
    "layout = ansatz_ibm.layout.initial_layout\n",
    "hamiltonian_ibm = permute_sparse_pauli_op(hamiltonian,layout, ansatz.qubits)\n",
    "hamiltonian_ibm"
   ]
  },
  {
   "cell_type": "code",
   "execution_count": 4,
   "id": "b38dc0c8",
   "metadata": {},
   "outputs": [
    {
     "name": "stdout",
     "output_type": "stream",
     "text": [
      "Iters. done: 100 [Current cost: -0.6697256190801224]\r"
     ]
    }
   ],
   "source": [
    "#------------------------------------\n",
    "# Step 3. Execute using the Estimator\n",
    "#------------------------------------\n",
    "\n",
    "# Import SPSA from module until SPSA is part of scipy\n",
    "from spsa import minimize_spsa\n",
    "#from scipy.optimize import minimize\n",
    "\n",
    "def cost_func(params, ansatz, hamiltonian, estimator):\n",
    "        \"\"\"Return estimate of energy from estimator\n",
    "\n",
    "        Parameters:\n",
    "            params (ndarray): Array of ansatz parameters\n",
    "            ansatz (QuantumCircuit): Parameterized ansatz circuit\n",
    "            hamiltonian (SparsePauliOp): Operator representation of Hamiltonian\n",
    "            estimator (Estimator): Estimator primitive instance\n",
    "\n",
    "        Returns:\n",
    "            float: Energy estimate\n",
    "        \"\"\"\n",
    "        energy = estimator.run(ansatz, hamiltonian,\n",
    "                               parameter_values=params).result().values[0]\n",
    "        return energy\n",
    "\n",
    "\n",
    "def build_callback(ansatz, hamiltonian, estimator, callback_dict):\n",
    "    \"\"\"Return callback function that uses Estimator instance,\n",
    "    and stores intermediate values into a dictionary.\n",
    "\n",
    "    Parameters:\n",
    "        ansatz (QuantumCircuit): Parameterized ansatz circuit\n",
    "        hamiltonian (SparsePauliOp): Operator representation of Hamiltonian\n",
    "        estimator (Estimator): Estimator primitive instance\n",
    "        callback_dict (dict): Mutable dict for storing values\n",
    "\n",
    "    Returns:\n",
    "        Callable: Callback function object\n",
    "    \"\"\"\n",
    "\n",
    "    def callback(current_vector):\n",
    "        \"\"\"Callback function storing previous solution vector,\n",
    "        computing the intermediate cost value, and displaying number\n",
    "        of completed iterations and average time per iteration.\n",
    "\n",
    "        Values are stored in pre-defined 'callback_dict' dictionary.\n",
    "\n",
    "        Parameters:\n",
    "            current_vector (ndarray): Current vector of parameters\n",
    "                                      returned by optimizer\n",
    "        \"\"\"\n",
    "        # Keep track of the number of iterations\n",
    "        callback_dict[\"iters\"] += 1\n",
    "        # Set the prev_vector to the latest one\n",
    "        callback_dict[\"prev_vector\"] = current_vector\n",
    "        # Compute the value of the cost function at the current vector\n",
    "        # This adds an additional function evaluation\n",
    "        current_cost = estimator.run(ansatz, hamiltonian,\n",
    "                                     parameter_values=current_vector).result().values[0]\n",
    "        callback_dict[\"cost_history\"].append(current_cost)\n",
    "        # Print to screen on single line\n",
    "        print(\n",
    "            \"Iters. done: {} [Current cost: {}]\".format(callback_dict[\"iters\"], current_cost),\n",
    "            end=\"\\r\",\n",
    "            flush=True,\n",
    "        )\n",
    "\n",
    "    return callback\n",
    "\n",
    "num_params = ansatz.num_parameters\n",
    "params = 2*np.pi*np.random.random(num_params)\n",
    "\n",
    "options = Options(optimization_level=1)\n",
    "options.execution.shots = 5000  # Options can be set using auto-complete.\n",
    "\n",
    "callback_dict = {\n",
    "    \"prev_vector\": None,\n",
    "    \"iters\": 0,\n",
    "    \"cost_history\": [],\n",
    "}\n",
    "\n",
    "with Session(service=service, backend=backend) as session:\n",
    "    estimator = Estimator(session=session, options=options)\n",
    "    callback = build_callback(ansatz, hamiltonian, estimator, callback_dict)\n",
    "    #res = minimize(cost_func, x0=params,\n",
    "    #               args=(ansatz, hamiltonian, estimator),\n",
    "    #               callback=callback,\n",
    "    #               maxiter=100, method='coblya')\n",
    "    res = minimize_spsa(cost_func, x0=params,\n",
    "                        args=(ansatz, hamiltonian, estimator),\n",
    "                        callback=callback,\n",
    "                        maxiter=100)"
   ]
  },
  {
   "cell_type": "code",
   "execution_count": 5,
   "id": "b642abf0-03f2-438f-8383-07dfbe0e0b14",
   "metadata": {
    "tags": []
   },
   "outputs": [
    {
     "name": "stdout",
     "output_type": "stream",
     "text": [
      " message: Optimization terminated successfully.\n",
      " success: True\n",
      "     fun: -0.6887087698067219\n",
      "       x: [ 1.716e+00 -2.051e-01 ...  1.645e+00  5.290e+00]\n",
      "     nit: 100\n",
      "    nfev: 200\n"
     ]
    }
   ],
   "source": [
    "print(res)"
   ]
  },
  {
   "cell_type": "code",
   "execution_count": 6,
   "id": "f350861e-6315-4e26-b594-82864b6d8fa3",
   "metadata": {},
   "outputs": [
    {
     "data": {
      "image/png": "[encoded data removed]",
      "text/plain": [
       "<Figure size 640x480 with 1 Axes>"
      ]
     },
     "metadata": {},
     "output_type": "display_data"
    }
   ],
   "source": [
    "import matplotlib.pyplot as plt\n",
    "\n",
    "plt.plot(callback_dict['cost_history'], lw=2)\n",
    "plt.axhline(y=np.linalg.eigvalsh(hamiltonian.to_matrix())[0], color='r', linestyle='--')\n",
    "plt.xlabel('Iteration')\n",
    "plt.ylabel('Energy')\n",
    "plt.show()"
   ]
  },
  {
   "cell_type": "code",
   "execution_count": null,
   "id": "187d2b06-0bb3-431c-9446-e107969410dd",
   "metadata": {},
   "outputs": [],
   "source": []
  }
 ],
 "metadata": {
  "kernelspec": {
   "display_name": "Python 3 (ipykernel)",
   "language": "python",
   "name": "python3"
  },
  "language_info": {
   "codemirror_mode": {
    "name": "ipython",
    "version": 3
   },
   "file_extension": ".py",
   "mimetype": "text/x-python",
   "name": "python",
   "nbconvert_exporter": "python",
   "pygments_lexer": "ipython3",
   "version": "3.11.4"
  },
  "widgets": {
   "application/vnd.jupyter.widget-state+json": {
    "state": {},
    "version_major": 2,
    "version_minor": 0
   }
  }
 },
 "nbformat": 4,
 "nbformat_minor": 5
}
