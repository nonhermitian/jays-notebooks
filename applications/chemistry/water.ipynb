{
 "cells": [
  {
   "cell_type": "markdown",
   "metadata": {},
   "source": [
    "# Water"
   ]
  },
  {
   "cell_type": "markdown",
   "metadata": {},
   "source": [
    "## **Step 0**: Setup"
   ]
  },
  {
   "cell_type": "code",
   "execution_count": 1,
   "metadata": {},
   "outputs": [],
   "source": [
    "import numpy as np\n",
    "\n",
    "# Qiskit circuit libraries\n",
    "from qiskit.circuit.library import EfficientSU2\n",
    "\n",
    "# Qiskit primitives\n",
    "from qiskit.primitives import Estimator as QiskitEstimator\n",
    "from qiskit.primitives import Sampler as QiskitSampler\n",
    "\n",
    "# Qiskit runtime\n",
    "from qiskit_ibm_runtime import QiskitRuntimeService\n",
    "from qiskit_ibm_runtime import Estimator, Sampler, Session\n",
    "\n",
    "# PySCF itself\n",
    "import pyscf\n",
    "\n",
    "# Convert to QCSchema\n",
    "from chemist_converter import pyscf_to_qcschema, qcschema_to_electronic_structure\n",
    "\n",
    "# Chemistry transformations\n",
    "from passes.transformations import ActiveSpaceTransformer\n",
    "from passes.mappings import (ElectronicStructureToFermionicHamiltonian,\n",
    "                             JordanWignerMapper,\n",
    "                             ParityMapper,\n",
    "                             BravyiKitaevMapper)\n",
    "\n",
    "# Fulqrum workflow\n",
    "from fulqrum import Workflow\n",
    "\n",
    "# SPSA\n",
    "from spsa import minimize_spsa"
   ]
  },
  {
   "cell_type": "markdown",
   "metadata": {},
   "source": [
    "## **Step 1** Map the problem to a Quantum Native format (Set of Operators, and a set of Quantum Circuits)"
   ]
  },
  {
   "cell_type": "markdown",
   "metadata": {},
   "source": [
    "### PySCF to QCSchema"
   ]
  },
  {
   "cell_type": "code",
   "execution_count": 2,
   "metadata": {},
   "outputs": [
    {
     "name": "stderr",
     "output_type": "stream",
     "text": [
      "/Users/paul/mambaforge/envs/qiskit/lib/python3.11/site-packages/pyscf/dft/libxc.py:772: UserWarning: Since PySCF-2.3, B3LYP (and B3P86) are changed to the VWN-RPA variant, corresponding to the original definition by Stephens et al. (issue 1480) and the same as the B3LYP functional in Gaussian. To restore the VWN5 definition, you can put the setting \"B3LYP_WITH_VWN5 = True\" in pyscf_conf.py\n",
      "  warnings.warn('Since PySCF-2.3, B3LYP (and B3P86) are changed to the VWN-RPA variant, '\n"
     ]
    }
   ],
   "source": [
    "mol = pyscf.M(atom = 'O 0.0 0.0 0.115; H 0.0 0.754 -0.459; H 0.0 -0.754 -0.459',\n",
    "              basis = 'sto-3g',\n",
    "              charge=0,\n",
    "              spin=0,\n",
    "              )\n",
    "\n",
    "mf = pyscf.scf.RHF(mol).run(verbose=False)\n",
    "schema = pyscf_to_qcschema(mf)"
   ]
  },
  {
   "cell_type": "markdown",
   "metadata": {},
   "source": [
    "### Electronic structure to qubit hamiltonian"
   ]
  },
  {
   "cell_type": "code",
   "execution_count": 3,
   "metadata": {},
   "outputs": [
    {
     "data": {
      "text/plain": [
       "SparsePauliOp(['IIIIII', 'IIIIIZ', 'IIIIZZ', 'IIIZII', 'IIZZZI', 'IZIIII', 'ZZIIII', 'IIIIZI', 'IIIZIZ', 'IIZZZZ', 'IZIIIZ', 'ZZIIIZ', 'XYYZIX', 'XXXIZX', 'XYYZZX', 'XXXIIX', 'YIYXXX', 'XZXYYX', 'YIYYXY', 'XZXXYY', 'IIIZZZ', 'IIZZIZ', 'IZIIZZ', 'ZZIIZZ', 'ZXIYYZ', 'IXIYYZ', 'ZXIXXI', 'IXIXXI', 'IIZIZI', 'IZIZII', 'ZZIZII', 'IZZZZI', 'ZZZZZI', 'ZIIIII'],\n",
       "              coeffs=[-0.05135748+0.j, -0.17628591+0.j, -0.42585723+0.j, -0.48094051+0.j,\n",
       " -0.17628591+0.j, -0.42585723+0.j, -0.48094051+0.j,  0.13748638+0.j,\n",
       "  0.15056812+0.j,  0.22003977+0.j,  0.14721913+0.j,  0.15665676+0.j,\n",
       " -0.00973275+0.j, -0.00973275+0.j,  0.00973275+0.j,  0.00973275+0.j,\n",
       " -0.00608864+0.j,  0.00608864+0.j, -0.00608864+0.j, -0.00608864+0.j,\n",
       "  0.11275929+0.j,  0.14721913+0.j,  0.14925818+0.j,  0.14173508+0.j,\n",
       " -0.02897579+0.j,  0.02897579+0.j, -0.02897579+0.j,  0.02897579+0.j,\n",
       "  0.15665676+0.j,  0.14173508+0.j,  0.1553773 +0.j,  0.13748638+0.j,\n",
       "  0.15056812+0.j,  0.11275929+0.j])"
      ]
     },
     "execution_count": 3,
     "metadata": {},
     "output_type": "execute_result"
    }
   ],
   "source": [
    "elec_struct  = qcschema_to_electronic_structure(schema)\n",
    "\n",
    "chem_workflow = Workflow([ActiveSpaceTransformer(2, 3),\n",
    "                          ElectronicStructureToFermionicHamiltonian(),\n",
    "                          #JordanWignerMapper(),\n",
    "                          BravyiKitaevMapper(),\n",
    "                        ])\n",
    "\n",
    "hamiltonian = chem_workflow.run(electronic_structure=elec_struct)\n",
    "hamiltonian\n",
    "#reduced_elec_struct = ActiveSpaceTransformer(2, 3).run(elec_struct)\n",
    "#fermi_hamiltonian = ElectronicStructureToFermionicHamiltonian().run(reduced_elec_struct)\n",
    "#hamiltonian = BravyiKitaevMapper().run(fermi_hamiltonian)"
   ]
  },
  {
   "cell_type": "markdown",
   "metadata": {},
   "source": [
    "### Ansatz circuit"
   ]
  },
  {
   "cell_type": "code",
   "execution_count": 4,
   "metadata": {},
   "outputs": [],
   "source": [
    "ansatz = EfficientSU2(num_qubits=hamiltonian.num_qubits, reps=1, entanglement='linear')"
   ]
  },
  {
   "cell_type": "markdown",
   "metadata": {},
   "source": [
    "## **Step 2**: Optimize the circuits and the operators to be measured\n",
    "\n",
    "None here, letting the primitives handle it."
   ]
  },
  {
   "cell_type": "markdown",
   "metadata": {},
   "source": [
    "## **Step 3**: Execute using a quantum primitive function (estimator or sampler)\n"
   ]
  },
  {
   "cell_type": "code",
   "execution_count": 5,
   "metadata": {},
   "outputs": [],
   "source": [
    "def cost_func(params, ansatz, hamiltonian, estimator):\n",
    "    \"\"\"Return estimate of energy from estimator\n",
    "\n",
    "    Parameters:\n",
    "        params (ndarray): Array of ansatz parameters\n",
    "        ansatz (QuantumCircuit): Parameterized ansatz circuit\n",
    "        hamiltonian (SparsePauliOp): Operator representation of Hamiltonian\n",
    "        estimator (Estimator): Estimator primitive instance\n",
    "\n",
    "    Returns:\n",
    "        float: Energy estimate\n",
    "    \"\"\"\n",
    "    cost = estimator.run(ansatz, hamiltonian, parameter_values=params).result().values[0]\n",
    "    return cost"
   ]
  },
  {
   "cell_type": "code",
   "execution_count": 6,
   "metadata": {},
   "outputs": [],
   "source": [
    "estimator = QiskitEstimator(options={\"shots\": int(1e4)})\n",
    "sampler = QiskitSampler(options={\"shots\": int(1e4)})"
   ]
  },
  {
   "cell_type": "code",
   "execution_count": 7,
   "metadata": {},
   "outputs": [],
   "source": [
    "x0 = 2*np.pi*np.random.random(size=ansatz.num_parameters)\n",
    "res = minimize_spsa(cost_func, x0, args=(ansatz, hamiltonian, estimator), maxiter=250)"
   ]
  },
  {
   "cell_type": "code",
   "execution_count": 8,
   "metadata": {},
   "outputs": [
    {
     "data": {
      "text/plain": [
       " message: Optimization terminated successfully.\n",
       " success: True\n",
       "     fun: -1.6486296983507056\n",
       "       x: [ 6.289e+00  3.149e+00 ...  2.782e+00  1.712e+00]\n",
       "     nit: 250\n",
       "    nfev: 500"
      ]
     },
     "execution_count": 8,
     "metadata": {},
     "output_type": "execute_result"
    }
   ],
   "source": [
    "res"
   ]
  },
  {
   "cell_type": "markdown",
   "metadata": {},
   "source": [
    "## **Step 4**: Post-processing of the results"
   ]
  },
  {
   "cell_type": "code",
   "execution_count": 9,
   "metadata": {},
   "outputs": [
    {
     "data": {
      "text/plain": [
       "-1.6486296983507056"
      ]
     },
     "execution_count": 9,
     "metadata": {},
     "output_type": "execute_result"
    }
   ],
   "source": [
    "res.fun"
   ]
  }
 ],
 "metadata": {
  "kernelspec": {
   "display_name": "Python 3 (ipykernel)",
   "language": "python",
   "name": "python3"
  },
  "language_info": {
   "codemirror_mode": {
    "name": "ipython",
    "version": 3
   },
   "file_extension": ".py",
   "mimetype": "text/x-python",
   "name": "python",
   "nbconvert_exporter": "python",
   "pygments_lexer": "ipython3",
   "version": "3.11.4"
  }
 },
 "nbformat": 4,
 "nbformat_minor": 4
}
