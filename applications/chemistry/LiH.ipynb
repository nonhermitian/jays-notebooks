{
 "cells": [
  {
   "cell_type": "markdown",
   "metadata": {},
   "source": [
    "# LiH"
   ]
  },
  {
   "cell_type": "markdown",
   "metadata": {},
   "source": [
    "## **Step 0**: Setup"
   ]
  },
  {
   "cell_type": "code",
   "execution_count": 18,
   "metadata": {},
   "outputs": [],
   "source": [
    "import numpy as np\n",
    "\n",
    "# Qiskit circuit libraries\n",
    "from qiskit.circuit.library import EfficientSU2\n",
    "\n",
    "# Qiskit primitives\n",
    "from qiskit.primitives import Estimator as QiskitEstimator\n",
    "from qiskit.primitives import Sampler as QiskitSampler\n",
    "\n",
    "# Qiskit runtime\n",
    "from qiskit_ibm_runtime import QiskitRuntimeService\n",
    "from qiskit_ibm_runtime import Estimator, Sampler, Session\n",
    "\n",
    "# PySCF itself\n",
    "import pyscf\n",
    "\n",
    "# Convert to QCSchema\n",
    "from chemist_converter import pyscf_to_qcschema, qcschema_to_electronic_structure\n",
    "\n",
    "# Chemistry transformations\n",
    "from passes.transformations import ActiveSpaceTransformer\n",
    "from passes.mappings import (ElectronicStructureToFermionicHamiltonian,\n",
    "                             JordanWignerMapper,\n",
    "                             ParityMapper,\n",
    "                             BravyiKitaevMapper)\n",
    "\n",
    "# Fulqrum workflow\n",
    "from fulqrum import Workflow\n",
    "\n",
    "# SPSA\n",
    "from spsa import minimize_spsa"
   ]
  },
  {
   "cell_type": "markdown",
   "metadata": {},
   "source": [
    "## **Step 1** Map the problem to a Quantum Native format (Set of Operators, and a set of Quantum Circuits)"
   ]
  },
  {
   "cell_type": "markdown",
   "metadata": {},
   "source": [
    "### PySCF to QCSchema"
   ]
  },
  {
   "cell_type": "code",
   "execution_count": 19,
   "metadata": {},
   "outputs": [],
   "source": [
    "mol = pyscf.M(atom = 'Li .0 .0 .0; H .0 .0 1.6',\n",
    "              basis = 'sto-3g',\n",
    "              charge=0,\n",
    "              spin=0,\n",
    "              )\n",
    "\n",
    "mf = pyscf.scf.RHF(mol).run(verbose=False)\n",
    "schema = pyscf_to_qcschema(mf)"
   ]
  },
  {
   "cell_type": "markdown",
   "metadata": {},
   "source": [
    "### Optionally save to file"
   ]
  },
  {
   "cell_type": "code",
   "execution_count": 28,
   "metadata": {},
   "outputs": [],
   "source": [
    "#schema.to_json_file('LiH.json')"
   ]
  },
  {
   "cell_type": "markdown",
   "metadata": {},
   "source": [
    "### Electronic structure to qubit hamiltonian"
   ]
  },
  {
   "cell_type": "code",
   "execution_count": 20,
   "metadata": {},
   "outputs": [
    {
     "data": {
      "text/plain": [
       "SparsePauliOp(['IIIIII', 'IIIIIZ', 'IIIIZI', 'IIIIZZ', 'IIIZII', 'IIIZIZ', 'IIZIII', 'IIZIIZ', 'IYYIII', 'IYYIIZ', 'IXXIII', 'IXXIIZ', 'IZIIII', 'IZIIIZ', 'ZIIIII', 'ZIIIIZ', 'IIIIYY', 'IIIZYY', 'IIIIXX', 'IIIZXX', 'IIZIYY', 'IIZIXX', 'IYYIYY', 'IXXIYY', 'IYYIXX', 'IXXIXX', 'IZIIYY', 'IZIIXX', 'ZIIIYY', 'ZIIIXX', 'YZYYZY', 'XZXYZY', 'YZYXZX', 'XZXXZX', 'YYIYZY', 'XXIYZY', 'YYIXZX', 'XXIXZX', 'IIIZZI', 'IIZIZI', 'IYYIZI', 'IXXIZI', 'IZIIZI', 'ZIIIZI', 'YZYYYI', 'XZXYYI', 'YZYXXI', 'XZXXXI', 'YYIYYI', 'XXIYYI', 'YYIXXI', 'XXIXXI', 'IIZZII', 'IYYZII', 'IXXZII', 'IZIZII', 'ZIIZII', 'IZZIII', 'ZIZIII', 'ZYYIII', 'ZXXIII', 'ZZIIII'],\n",
       "              coeffs=[-0.46007434+0.j,  0.02669401+0.j, -0.14571632+0.j,  0.05263652+0.j,\n",
       " -0.16165347+0.j,  0.0616872 +0.j,  0.02669401+0.j,  0.12182774+0.j,\n",
       "  0.01208048+0.j,  0.0121449 +0.j,  0.01208048+0.j,  0.0121449 +0.j,\n",
       " -0.14571632+0.j,  0.05590251+0.j, -0.16165347+0.j,  0.06754287+0.j,\n",
       "  0.01208048+0.j,  0.00337735+0.j,  0.01208048+0.j,  0.00337735+0.j,\n",
       "  0.0121449 +0.j,  0.0121449 +0.j,  0.003266  +0.j,  0.003266  +0.j,\n",
       "  0.003266  +0.j,  0.003266  +0.j, -0.00187104+0.j, -0.00187104+0.j,\n",
       " -0.00144188+0.j, -0.00144188+0.j,  0.00585567+0.j,  0.00585567+0.j,\n",
       "  0.00585567+0.j,  0.00585567+0.j,  0.00481922+0.j,  0.00481922+0.j,\n",
       "  0.00481922+0.j,  0.00481922+0.j,  0.06017866+0.j,  0.05590251+0.j,\n",
       " -0.00187104+0.j, -0.00187104+0.j,  0.08447057+0.j,  0.07049784+0.j,\n",
       "  0.00481922+0.j,  0.00481922+0.j,  0.00481922+0.j,  0.00481922+0.j,\n",
       "  0.01031917+0.j,  0.01031917+0.j,  0.01031917+0.j,  0.01031917+0.j,\n",
       "  0.06754287+0.j, -0.00144188+0.j, -0.00144188+0.j,  0.07049784+0.j,\n",
       "  0.07823638+0.j,  0.05263652+0.j,  0.0616872 +0.j,  0.00337735+0.j,\n",
       "  0.00337735+0.j,  0.06017866+0.j])"
      ]
     },
     "execution_count": 20,
     "metadata": {},
     "output_type": "execute_result"
    }
   ],
   "source": [
    "elec_struct  = qcschema_to_electronic_structure(schema)\n",
    "\n",
    "chem_workflow = Workflow([ActiveSpaceTransformer(2, 3),\n",
    "                          ElectronicStructureToFermionicHamiltonian(),\n",
    "                          JordanWignerMapper(),\n",
    "                          #BravyiKitaevMapper(),\n",
    "                        ])\n",
    "\n",
    "hamiltonian = chem_workflow.run(electronic_structure=elec_struct)\n",
    "hamiltonian\n",
    "#reduced_elec_struct = ActiveSpaceTransformer(2, 3).run(elec_struct)\n",
    "#fermi_hamiltonian = ElectronicStructureToFermionicHamiltonian().run(reduced_elec_struct)\n",
    "#hamiltonian = JordanWignerMapper().run(fermi_hamiltonian)"
   ]
  },
  {
   "cell_type": "code",
   "execution_count": 21,
   "metadata": {},
   "outputs": [
    {
     "data": {
      "image/png": "[encoded data removed]",
      "text/plain": [
       "<Figure size 640x480 with 1 Axes>"
      ]
     },
     "metadata": {},
     "output_type": "display_data"
    }
   ],
   "source": [
    "chem_workflow.draw()"
   ]
  },
  {
   "cell_type": "markdown",
   "metadata": {},
   "source": [
    "### Ansatz circuit"
   ]
  },
  {
   "cell_type": "code",
   "execution_count": 22,
   "metadata": {},
   "outputs": [],
   "source": [
    "ansatz = EfficientSU2(num_qubits=hamiltonian.num_qubits, reps=1, entanglement='linear')"
   ]
  },
  {
   "cell_type": "markdown",
   "metadata": {},
   "source": [
    "## **Step 2**: Optimize the circuits and the operators to be measured\n",
    "\n",
    "None here, letting the primitives handle it."
   ]
  },
  {
   "cell_type": "markdown",
   "metadata": {},
   "source": [
    "## **Step 3**: Execute using a quantum primitive function (estimator or sampler)\n"
   ]
  },
  {
   "cell_type": "code",
   "execution_count": 23,
   "metadata": {},
   "outputs": [],
   "source": [
    "def cost_func(params, ansatz, hamiltonian, estimator):\n",
    "    \"\"\"Return estimate of energy from estimator\n",
    "\n",
    "    Parameters:\n",
    "        params (ndarray): Array of ansatz parameters\n",
    "        ansatz (QuantumCircuit): Parameterized ansatz circuit\n",
    "        hamiltonian (SparsePauliOp): Operator representation of Hamiltonian\n",
    "        estimator (Estimator): Estimator primitive instance\n",
    "\n",
    "    Returns:\n",
    "        float: Energy estimate\n",
    "    \"\"\"\n",
    "    cost = estimator.run(ansatz, hamiltonian, parameter_values=params).result().values[0]\n",
    "    return cost"
   ]
  },
  {
   "cell_type": "code",
   "execution_count": 24,
   "metadata": {},
   "outputs": [],
   "source": [
    "estimator = QiskitEstimator(options={\"shots\": int(1e4)})\n",
    "sampler = QiskitSampler(options={\"shots\": int(1e4)})"
   ]
  },
  {
   "cell_type": "code",
   "execution_count": 25,
   "metadata": {},
   "outputs": [],
   "source": [
    "x0 = 2*np.pi*np.random.random(size=ansatz.num_parameters)\n",
    "res = minimize_spsa(cost_func, x0, args=(ansatz, hamiltonian, estimator), maxiter=250)"
   ]
  },
  {
   "cell_type": "code",
   "execution_count": 26,
   "metadata": {},
   "outputs": [
    {
     "data": {
      "text/plain": [
       " message: Optimization terminated successfully.\n",
       " success: True\n",
       "     fun: -0.9186226659725594\n",
       "       x: [ 6.256e+00  3.107e+00 ...  2.712e+00  6.092e+00]\n",
       "     nit: 250\n",
       "    nfev: 500"
      ]
     },
     "execution_count": 26,
     "metadata": {},
     "output_type": "execute_result"
    }
   ],
   "source": [
    "res"
   ]
  },
  {
   "cell_type": "markdown",
   "metadata": {},
   "source": [
    "## **Step 4**: Post-processing of the results"
   ]
  },
  {
   "cell_type": "code",
   "execution_count": 27,
   "metadata": {},
   "outputs": [
    {
     "data": {
      "text/plain": [
       "-0.9186226659725594"
      ]
     },
     "execution_count": 27,
     "metadata": {},
     "output_type": "execute_result"
    }
   ],
   "source": [
    "res.fun"
   ]
  },
  {
   "cell_type": "code",
   "execution_count": null,
   "metadata": {},
   "outputs": [],
   "source": []
  }
 ],
 "metadata": {
  "kernelspec": {
   "display_name": "Python 3 (ipykernel)",
   "language": "python",
   "name": "python3"
  },
  "language_info": {
   "codemirror_mode": {
    "name": "ipython",
    "version": 3
   },
   "file_extension": ".py",
   "mimetype": "text/x-python",
   "name": "python",
   "nbconvert_exporter": "python",
   "pygments_lexer": "ipython3",
   "version": "3.11.4"
  }
 },
 "nbformat": 4,
 "nbformat_minor": 4
}
